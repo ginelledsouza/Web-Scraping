{
 "cells": [
  {
   "cell_type": "markdown",
   "metadata": {},
   "source": [
    "-------------------------------------------------------------------------------------------------------------------------------"
   ]
  },
  {
   "cell_type": "markdown",
   "metadata": {},
   "source": [
    "# Web Scrapping"
   ]
  },
  {
   "cell_type": "markdown",
   "metadata": {},
   "source": [
    "Importing basics libraries that are used for web scrapping.\n",
    "<li>Requests - A Python library used to send an HTTP request to a website and store the response object within a variable.</li>\n",
    "<li>BeautifulSoup - A Python library used to extract the data from an HTML or XML document.</li>\n",
    "<li>Pandas - A Python library used for Data Analysis. Which will be used to create a dataframe in the following project.</li>"
   ]
  },
  {
   "cell_type": "code",
   "execution_count": 1,
   "metadata": {},
   "outputs": [],
   "source": [
    "from bs4 import BeautifulSoup\n",
    "import requests\n",
    "import pandas as pd"
   ]
  },
  {
   "cell_type": "code",
   "execution_count": 2,
   "metadata": {},
   "outputs": [],
   "source": [
    "url = 'https://www.flipkart.com/mobiles/pr?sid=tyy,4io&otracker=categorytree'\n",
    "r = requests.get(url)\n",
    "s = BeautifulSoup(r.content, 'html.parser')"
   ]
  },
  {
   "cell_type": "markdown",
   "metadata": {},
   "source": [
    "The status_code is used to indicate whether or not the request we made for the above URL received a successful response. \n",
    "<li>200 - \"OK\"</li>\n",
    "<li>404 - \"NOT FOUND\"</li>\n",
    "<li>403 - \"FORBIDDEN\"</li>\n",
    "<li>500 - \"INTERNAL SERVER ERROR\"</li>"
   ]
  },
  {
   "cell_type": "code",
   "execution_count": 3,
   "metadata": {},
   "outputs": [
    {
     "data": {
      "text/plain": [
       "200"
      ]
     },
     "execution_count": 3,
     "metadata": {},
     "output_type": "execute_result"
    }
   ],
   "source": [
    "r.status_code"
   ]
  },
  {
   "cell_type": "markdown",
   "metadata": {},
   "source": [
    "-------------------------------------------------------------------------------------------------------------------------------"
   ]
  },
  {
   "cell_type": "markdown",
   "metadata": {},
   "source": [
    "The variable \"s\" contains the HTML code for the site. It is possible to access a specific chunk of code by identifying the tag with the \"find\" or \"find_all\" method. For a specific tag the class or id of that tag can be specified within the method.<br>\n",
    "<li>.find() - Finds the first occurrence of the specified parameter values</li>\n",
    "<li>.find_all() - Finds all the occurrence of the specified parameter values</li>"
   ]
  },
  {
   "cell_type": "code",
   "execution_count": 4,
   "metadata": {},
   "outputs": [],
   "source": [
    "MoblieDetails = []\n",
    "for text in s.find_all('div',{'class':'_1UoZlX'}):\n",
    "    b = text\n",
    "    MoblieDetails.append(b)"
   ]
  },
  {
   "cell_type": "code",
   "execution_count": 5,
   "metadata": {},
   "outputs": [
    {
     "name": "stdout",
     "output_type": "stream",
     "text": [
      "<div class=\"_1UoZlX\">\n",
      " <a class=\"_31qSD5\" href=\"/redmi-8-onyx-black-64-gb/p/itmebd23d8a2ed1b?pid=MOBFKPYDZJQHGJXA&amp;lid=LSTMOBFKPYDZJQHGJXAPMDXOB&amp;marketplace=FLIPKART&amp;srno=b_1_1&amp;otracker=browse&amp;fm=organic&amp;iid=330c5703-3380-4940-a6c8-5613395a6b2f.MOBFKPYDZJQHGJXA.SEARCH&amp;ssid=04xavwjhkw0000001595947281529\" rel=\"noopener noreferrer\" target=\"_blank\">\n",
      "  <div class=\"_3SQWE6\">\n",
      "   <div class=\"_1OCn9C\">\n",
      "    <div>\n",
      "     <div class=\"_3BTv9X\" style=\"height:200px;width:200px\">\n",
      "      <img alt=\"Redmi 8 (Onyx Black, 64 GB)\" class=\"_1Nyybr\" src=\"//img1a.flixcart.com/www/linchpin/fk-cp-zion/img/placeholder_9951d0.svg\"/>\n",
      "     </div>\n",
      "    </div>\n",
      "   </div>\n",
      "   <div class=\"_2lesQu\">\n",
      "    <div class=\"_1O_CiZ\">\n",
      "     <span class=\"_1iHA1p\">\n",
      "      <div class=\"_2kFyHg\">\n",
      "       <label>\n",
      "        <input class=\"_3uUUD5\" readonly=\"\" type=\"checkbox\"/>\n",
      "        <div class=\"_1p7h2j\">\n",
      "        </div>\n",
      "       </label>\n",
      "      </div>\n",
      "     </span>\n",
      "     <label class=\"_10TB-Q\">\n",
      "      <span>\n",
      "       Add to Compare\n",
      "      </span>\n",
      "     </label>\n",
      "    </div>\n",
      "   </div>\n",
      "   <div class=\"_3gDSOa _32A6AP\">\n",
      "    <div class=\"DsQ2eg\">\n",
      "     <svg class=\"_2oLiqr\" height=\"16\" viewbox=\"0 0 20 16\" width=\"16\" xmlns=\"http://www.w3.org/2000/svg\">\n",
      "      <path class=\"_35Y7Yo\" d=\"M8.695 16.682C4.06 12.382 1 9.536 1 6.065 1 3.219 3.178 1 5.95 1c1.566 0 3.069.746 4.05 1.915C10.981 1.745 12.484 1 14.05 1 16.822 1 19 3.22 19 6.065c0 3.471-3.06 6.316-7.695 10.617L10 17.897l-1.305-1.215z\" fill=\"#2874F0\" fill-rule=\"evenodd\" opacity=\".9\" stroke=\"#FFF\">\n",
      "      </path>\n",
      "     </svg>\n",
      "    </div>\n",
      "   </div>\n",
      "  </div>\n",
      "  <div class=\"_1-2Iqu row\">\n",
      "   <div class=\"col col-7-12\">\n",
      "    <div class=\"_3wU53n\">\n",
      "     Redmi 8 (Onyx Black, 64 GB)\n",
      "    </div>\n",
      "    <div class=\"niH0FQ\">\n",
      "     <span class=\"_2_KrJI\" id=\"productRating_LSTMOBFKPYDZJQHGJXAPMDXOB_MOBFKPYDZJQHGJXA_\">\n",
      "      <div class=\"hGSR34\">\n",
      "       4.4\n",
      "       <img class=\"_2lQ_WZ\" src=\"data:image/svg+xml;base64,PHN2ZyB4bWxucz0iaHR0cDovL3d3dy53My5vcmcvMjAwMC9zdmciIHdpZHRoPSIxMyIgaGVpZ2h0PSIxMiI+PHBhdGggZmlsbD0iI0ZGRiIgZD0iTTYuNSA5LjQzOWwtMy42NzQgMi4yMy45NC00LjI2LTMuMjEtMi44ODMgNC4yNTQtLjQwNEw2LjUuMTEybDEuNjkgNC4wMSA0LjI1NC40MDQtMy4yMSAyLjg4Mi45NCA0LjI2eiIvPjwvc3ZnPg==\"/>\n",
      "      </div>\n",
      "     </span>\n",
      "     <span class=\"_38sUEc\">\n",
      "      <span>\n",
      "       <span>\n",
      "        6,70,107 Ratings\n",
      "       </span>\n",
      "       <span class=\"_1VpSqZ\">\n",
      "        &amp;\n",
      "       </span>\n",
      "       <span>\n",
      "        49,811 Reviews\n",
      "       </span>\n",
      "      </span>\n",
      "     </span>\n",
      "    </div>\n",
      "    <div class=\"_3ULzGw\">\n",
      "     <ul class=\"vFw0gD\">\n",
      "      <li class=\"tVe95H\">\n",
      "       4 GB RAM | 64 GB ROM | Expandable Upto 512 GB\n",
      "      </li>\n",
      "      <li class=\"tVe95H\">\n",
      "       15.8 cm (6.22 inch) HD+ Display\n",
      "      </li>\n",
      "      <li class=\"tVe95H\">\n",
      "       12MP + 2MP | 8MP Front Camera\n",
      "      </li>\n",
      "      <li class=\"tVe95H\">\n",
      "       5000 mAh Battery\n",
      "      </li>\n",
      "      <li class=\"tVe95H\">\n",
      "       Qualcomm Snapdragon 439 Processor\n",
      "      </li>\n",
      "      <li class=\"tVe95H\">\n",
      "       Brand Warranty of 1 Year Available for Mobile and 6 Months for Accessories\n",
      "      </li>\n",
      "     </ul>\n",
      "    </div>\n",
      "   </div>\n",
      "   <div class=\"col col-5-12 _2o7WAb\">\n",
      "    <div class=\"_6BWGkk\">\n",
      "     <div class=\"_1uv9Cb\">\n",
      "      <div class=\"_1vC4OE _2rQ-NK\">\n",
      "       ₹9,799\n",
      "      </div>\n",
      "      <div class=\"_3auQ3N _2GcJzG\">\n",
      "       ₹\n",
      "       <!-- -->\n",
      "       10,999\n",
      "      </div>\n",
      "      <div class=\"VGWI6T\">\n",
      "       <span>\n",
      "        10% off\n",
      "       </span>\n",
      "      </div>\n",
      "     </div>\n",
      "    </div>\n",
      "    <div class=\"_3n6o0t\">\n",
      "     <img height=\"21\" src=\"//img1a.flixcart.com/www/linchpin/fk-cp-zion/img/fa_8b4b59.png\"/>\n",
      "    </div>\n",
      "    <div class=\"_2nE8_R\">\n",
      "     <div class=\"_3_G5Wj\" style=\"color:#000000;font-size:14px;font-family:inherit;font-weight:normal\">\n",
      "      No Cost EMI\n",
      "     </div>\n",
      "    </div>\n",
      "    <div class=\"_2nE8_R\">\n",
      "     <div class=\"_3_G5Wj\" style=\"color:#000000;font-size:14px;font-family:inherit;font-weight:normal\">\n",
      "      Upto\n",
      "     </div>\n",
      "     <div class=\"_3_G5Wj\" style=\"color:#000000;font-size:14px;font-family:inherit;font-weight:bold\">\n",
      "      ₹9,750\n",
      "     </div>\n",
      "     <div class=\"_3_G5Wj\" style=\"color:#000000;font-size:14px;font-family:inherit;font-weight:normal\">\n",
      "      Off on Exchange\n",
      "     </div>\n",
      "    </div>\n",
      "   </div>\n",
      "  </div>\n",
      " </a>\n",
      "</div>\n"
     ]
    }
   ],
   "source": [
    "print(MoblieDetails[0].prettify())"
   ]
  },
  {
   "cell_type": "markdown",
   "metadata": {},
   "source": [
    "Before creating a number of lists to hold the values, it is always a good practice to verify whether we have specified the right tags, classes and id. "
   ]
  },
  {
   "cell_type": "code",
   "execution_count": 6,
   "metadata": {},
   "outputs": [],
   "source": [
    "Check = MoblieDetails[0]\n",
    "\n",
    "ModelName = Check.find('div',{'class':'_3wU53n'}).get_text()\n",
    "DiscountedPrice = Check.find('div',{'class':'_1vC4OE _2rQ-NK'}).get_text()\n",
    "Price = Check.find('div',{'class':'_3auQ3N _2GcJzG'}).get_text()\n",
    "RateRev = Check.find('span',{'class':'_38sUEc'}).get_text()\n",
    "Stars = Check.find('div',{'class':'hGSR34'}).get_text()"
   ]
  },
  {
   "cell_type": "code",
   "execution_count": 7,
   "metadata": {},
   "outputs": [
    {
     "name": "stdout",
     "output_type": "stream",
     "text": [
      "*********************************\n",
      "Redmi 8 (Onyx Black, 64 GB)\n",
      "₹9,799\n",
      "₹10,999\n",
      "6,70,107 Ratings & 49,811 Reviews\n",
      "4.4\n",
      "*********************************\n"
     ]
    }
   ],
   "source": [
    "print(\"*\"*len(RateRev))\n",
    "print(ModelName)\n",
    "print(DiscountedPrice)\n",
    "print(Price)\n",
    "print(RateRev)\n",
    "print(Stars)\n",
    "print(\"*\"*len(RateRev))"
   ]
  },
  {
   "cell_type": "markdown",
   "metadata": {},
   "source": [
    "Finally, we can now scrape the data from the site into a number of lists.<br>\n",
    "while analyzing the site we realize certain points which are as follows:<br>\n",
    "<li>The price of all the products have the Rupee (₹) symbol which needs to be dealt with. </li>\n",
    "<li>There are few products that do not offer any discount, thus we need to display the original list price for such products.</li>\n",
    "<li>Ratings and Reviews are a string that we need to separate.</li>\n",
    "<li>Each product is given a star concerning their popularity/performance. There are additional products suggested by the site. As we are concerned with only &nbsp;&nbsp;&nbsp;&nbsp;&nbsp;24 products we need to be sure to scrape only the stars that belong to these 24 products.</li>\n",
    "<li>We need to extract the RAM and ROM specifications from the details. Also while scrapping the details we must make sure to return a null value if there are &nbsp;&nbsp;&nbsp;&nbsp;&nbsp;no specifictions available.</li><br>\n",
    "(<b>Note: We are only displaying the first 5 records</b>)"
   ]
  },
  {
   "cell_type": "code",
   "execution_count": 8,
   "metadata": {},
   "outputs": [
    {
     "data": {
      "text/plain": [
       "['Redmi 8 (Onyx Black, 64 GB)',\n",
       " 'Redmi 8 (Sapphire Blue, 64 GB)',\n",
       " 'Realme 6 (Comet Blue, 64 GB)',\n",
       " 'Realme Narzo 10A (So White, 32 GB)',\n",
       " 'Realme Narzo 10A (So White, 64 GB)']"
      ]
     },
     "execution_count": 8,
     "metadata": {},
     "output_type": "execute_result"
    }
   ],
   "source": [
    "ModelName = s.find_all('div',{'class':'_3wU53n'})\n",
    "ModelName = [pt.get_text() for pt in ModelName]\n",
    "ModelName[:5] "
   ]
  },
  {
   "cell_type": "code",
   "execution_count": 10,
   "metadata": {},
   "outputs": [
    {
     "data": {
      "text/plain": [
       "['9799', '9799', '15999', '8999', '9999']"
      ]
     },
     "execution_count": 10,
     "metadata": {},
     "output_type": "execute_result"
    }
   ],
   "source": [
    "SalesPrice = s.find_all('div',{'class':'_1vC4OE _2rQ-NK'})\n",
    "SalesPrice = [pt.get_text().replace(\"₹\",'').replace(\",\",'') for pt in SalesPrice]\n",
    "SalesPrice[:5]"
   ]
  },
  {
   "cell_type": "code",
   "execution_count": 11,
   "metadata": {},
   "outputs": [
    {
     "data": {
      "text/plain": [
       "['10999', '10999', '17999', '9999', '10999']"
      ]
     },
     "execution_count": 11,
     "metadata": {},
     "output_type": "execute_result"
    }
   ],
   "source": [
    "ListPrice = []\n",
    "for i in s.find_all('div',{'class':'_1uv9Cb'})[:24]:\n",
    "    if len(list(i.children)) == 1:\n",
    "        ListPrice.append(i.find('div',{'class':'_1vC4OE _2rQ-NK'}).text.replace(\"₹\",'').replace(\",\",''))\n",
    "    else:\n",
    "        ListPrice.append(i.find('div',{'class':'_3auQ3N _2GcJzG'}).text.replace(\"₹\",'').replace(\",\",''))\n",
    "ListPrice[:5]"
   ]
  },
  {
   "cell_type": "code",
   "execution_count": 12,
   "metadata": {},
   "outputs": [
    {
     "data": {
      "text/plain": [
       "['670107', '670107', '29837', '42472', '16351']"
      ]
     },
     "execution_count": 12,
     "metadata": {},
     "output_type": "execute_result"
    }
   ],
   "source": [
    "Ratings = s.find_all('span',{'class':'_38sUEc'})\n",
    "Ratings = [pt.get_text().replace(\"\\xa0\",\" \").split(\" & \")[0].replace(\" Ratings\",\"\").replace(\",\",'') for pt in Ratings]\n",
    "Ratings[:5]"
   ]
  },
  {
   "cell_type": "code",
   "execution_count": 13,
   "metadata": {},
   "outputs": [
    {
     "data": {
      "text/plain": [
       "['49811', '49811', '2944', '2903', '1069']"
      ]
     },
     "execution_count": 13,
     "metadata": {},
     "output_type": "execute_result"
    }
   ],
   "source": [
    "Reviews = s.find_all('span',{'class':'_38sUEc'})\n",
    "Reviews = [pt.get_text().replace(\"\\xa0\",\" \").split(\" & \")[1].replace(\" Reviews\",\"\").replace(\",\",'') for pt in Reviews]\n",
    "Reviews[:5]"
   ]
  },
  {
   "cell_type": "code",
   "execution_count": 14,
   "metadata": {},
   "outputs": [
    {
     "data": {
      "text/plain": [
       "['4.4', '4.4', '4.4', '4.6', '4.6']"
      ]
     },
     "execution_count": 14,
     "metadata": {},
     "output_type": "execute_result"
    }
   ],
   "source": [
    "Stars = s.find_all('div',{'class':'hGSR34'})\n",
    "Stars = [pt.get_text() for pt in Stars]\n",
    "Stars = Stars[:24]\n",
    "Stars[:5]"
   ]
  },
  {
   "cell_type": "code",
   "execution_count": 15,
   "metadata": {},
   "outputs": [
    {
     "data": {
      "text/plain": [
       "['4', '4', '6', '3', '4']"
      ]
     },
     "execution_count": 15,
     "metadata": {},
     "output_type": "execute_result"
    }
   ],
   "source": [
    "RAM = []\n",
    "for text in s.find_all('div',{'class':'_3ULzGw'}):\n",
    "    length = len(text.get_text().split('RAM'))\n",
    "    if length == 2:\n",
    "        RAM.append(text.get_text().split(\" |\")[0].replace(\" GB RAM\",\"\"))\n",
    "    else:\n",
    "        RAM.append('0')\n",
    "RAM[:5]"
   ]
  },
  {
   "cell_type": "code",
   "execution_count": 16,
   "metadata": {},
   "outputs": [
    {
     "data": {
      "text/plain": [
       "['64', '64', '64', '32', '64']"
      ]
     },
     "execution_count": 16,
     "metadata": {},
     "output_type": "execute_result"
    }
   ],
   "source": [
    "ROM = []\n",
    "for text in s.find_all('div',{'class':'_3ULzGw'}):\n",
    "        \n",
    "    text = text.get_text().split('ROM')[0]\n",
    "    length = len(text.split('|'))\n",
    "    if length == 1:\n",
    "        ROM.append(text.split('ROM')[0].replace(\" GB \",\"\"))\n",
    "    elif length == 2:\n",
    "        ROM.append(text.split(\" | \")[1].replace(\" GB \",\"\"))\n",
    "    else:\n",
    "        ROM.append('0')\n",
    "ROM[:5]"
   ]
  },
  {
   "cell_type": "markdown",
   "metadata": {},
   "source": [
    "-------------------------------------------------------------------------------------------------------------------------------"
   ]
  },
  {
   "cell_type": "markdown",
   "metadata": {},
   "source": [
    "Once we have all our data scraped into each list we can build a data frame with these lists. While building the data frame we covert the data which is in string format into integer and float, along with replacing any data having null values with 0."
   ]
  },
  {
   "cell_type": "code",
   "execution_count": 17,
   "metadata": {},
   "outputs": [],
   "source": [
    "import pandas as pd\n",
    "\n",
    "MobilePhones = pd.DataFrame({\n",
    "        \"MobileName\": pd.Series(ModelName).fillna('NAN'),\n",
    "        \"RAM_GB\": pd.Series(RAM).fillna(0).astype('int'),\n",
    "        \"ROM_GB\": pd.Series(ROM).fillna(0).astype('int'),\n",
    "        \"Ratings\": pd.Series(Ratings).fillna(0).astype('int'),\n",
    "        \"Reviews\": pd.Series(Reviews).fillna(0).astype('int'),\n",
    "        \"Stars\": pd.Series(Stars).fillna(0).astype('float'),\n",
    "        \"ListPrice\": pd.Series(ListPrice).fillna(0).astype('int'),\n",
    "        \"SalesPrice\": pd.Series(SalesPrice).fillna(0).astype('int')\n",
    "        })"
   ]
  },
  {
   "cell_type": "code",
   "execution_count": 18,
   "metadata": {
    "scrolled": true
   },
   "outputs": [
    {
     "data": {
      "text/html": [
       "<div>\n",
       "<style scoped>\n",
       "    .dataframe tbody tr th:only-of-type {\n",
       "        vertical-align: middle;\n",
       "    }\n",
       "\n",
       "    .dataframe tbody tr th {\n",
       "        vertical-align: top;\n",
       "    }\n",
       "\n",
       "    .dataframe thead th {\n",
       "        text-align: right;\n",
       "    }\n",
       "</style>\n",
       "<table border=\"1\" class=\"dataframe\">\n",
       "  <thead>\n",
       "    <tr style=\"text-align: right;\">\n",
       "      <th></th>\n",
       "      <th>MobileName</th>\n",
       "      <th>RAM_GB</th>\n",
       "      <th>ROM_GB</th>\n",
       "      <th>Ratings</th>\n",
       "      <th>Reviews</th>\n",
       "      <th>Stars</th>\n",
       "      <th>ListPrice</th>\n",
       "      <th>SalesPrice</th>\n",
       "    </tr>\n",
       "  </thead>\n",
       "  <tbody>\n",
       "    <tr>\n",
       "      <th>0</th>\n",
       "      <td>Redmi 8 (Onyx Black, 64 GB)</td>\n",
       "      <td>4</td>\n",
       "      <td>64</td>\n",
       "      <td>670107</td>\n",
       "      <td>49811</td>\n",
       "      <td>4.4</td>\n",
       "      <td>10999</td>\n",
       "      <td>9799</td>\n",
       "    </tr>\n",
       "    <tr>\n",
       "      <th>1</th>\n",
       "      <td>Redmi 8 (Sapphire Blue, 64 GB)</td>\n",
       "      <td>4</td>\n",
       "      <td>64</td>\n",
       "      <td>670107</td>\n",
       "      <td>49811</td>\n",
       "      <td>4.4</td>\n",
       "      <td>10999</td>\n",
       "      <td>9799</td>\n",
       "    </tr>\n",
       "    <tr>\n",
       "      <th>2</th>\n",
       "      <td>Realme 6 (Comet Blue, 64 GB)</td>\n",
       "      <td>6</td>\n",
       "      <td>64</td>\n",
       "      <td>29837</td>\n",
       "      <td>2944</td>\n",
       "      <td>4.4</td>\n",
       "      <td>17999</td>\n",
       "      <td>15999</td>\n",
       "    </tr>\n",
       "    <tr>\n",
       "      <th>3</th>\n",
       "      <td>Realme Narzo 10A (So White, 32 GB)</td>\n",
       "      <td>3</td>\n",
       "      <td>32</td>\n",
       "      <td>42472</td>\n",
       "      <td>2903</td>\n",
       "      <td>4.6</td>\n",
       "      <td>9999</td>\n",
       "      <td>8999</td>\n",
       "    </tr>\n",
       "    <tr>\n",
       "      <th>4</th>\n",
       "      <td>Realme Narzo 10A (So White, 64 GB)</td>\n",
       "      <td>4</td>\n",
       "      <td>64</td>\n",
       "      <td>16351</td>\n",
       "      <td>1069</td>\n",
       "      <td>4.6</td>\n",
       "      <td>10999</td>\n",
       "      <td>9999</td>\n",
       "    </tr>\n",
       "    <tr>\n",
       "      <th>5</th>\n",
       "      <td>Realme Narzo 10A (So Blue, 32 GB)</td>\n",
       "      <td>3</td>\n",
       "      <td>32</td>\n",
       "      <td>42472</td>\n",
       "      <td>2903</td>\n",
       "      <td>4.6</td>\n",
       "      <td>9999</td>\n",
       "      <td>8999</td>\n",
       "    </tr>\n",
       "    <tr>\n",
       "      <th>6</th>\n",
       "      <td>Realme Narzo 10A (So Blue, 64 GB)</td>\n",
       "      <td>4</td>\n",
       "      <td>64</td>\n",
       "      <td>16351</td>\n",
       "      <td>1069</td>\n",
       "      <td>4.6</td>\n",
       "      <td>10999</td>\n",
       "      <td>9999</td>\n",
       "    </tr>\n",
       "    <tr>\n",
       "      <th>7</th>\n",
       "      <td>Realme 6 (Comet White, 64 GB)</td>\n",
       "      <td>6</td>\n",
       "      <td>64</td>\n",
       "      <td>29837</td>\n",
       "      <td>2944</td>\n",
       "      <td>4.4</td>\n",
       "      <td>17999</td>\n",
       "      <td>15999</td>\n",
       "    </tr>\n",
       "    <tr>\n",
       "      <th>8</th>\n",
       "      <td>Realme Narzo 10 (That Green, 128 GB)</td>\n",
       "      <td>4</td>\n",
       "      <td>128</td>\n",
       "      <td>73440</td>\n",
       "      <td>5690</td>\n",
       "      <td>4.5</td>\n",
       "      <td>12999</td>\n",
       "      <td>11999</td>\n",
       "    </tr>\n",
       "    <tr>\n",
       "      <th>9</th>\n",
       "      <td>Realme Narzo 10 (That Blue, 128 GB)</td>\n",
       "      <td>4</td>\n",
       "      <td>128</td>\n",
       "      <td>73440</td>\n",
       "      <td>5690</td>\n",
       "      <td>4.5</td>\n",
       "      <td>12999</td>\n",
       "      <td>11999</td>\n",
       "    </tr>\n",
       "    <tr>\n",
       "      <th>10</th>\n",
       "      <td>Realme Narzo 10 (That White, 128 GB)</td>\n",
       "      <td>4</td>\n",
       "      <td>128</td>\n",
       "      <td>73440</td>\n",
       "      <td>5690</td>\n",
       "      <td>4.5</td>\n",
       "      <td>12999</td>\n",
       "      <td>11999</td>\n",
       "    </tr>\n",
       "    <tr>\n",
       "      <th>11</th>\n",
       "      <td>Realme C11 (Rich Green, 32 GB)</td>\n",
       "      <td>2</td>\n",
       "      <td>32</td>\n",
       "      <td>13880</td>\n",
       "      <td>1012</td>\n",
       "      <td>4.6</td>\n",
       "      <td>8999</td>\n",
       "      <td>7499</td>\n",
       "    </tr>\n",
       "    <tr>\n",
       "      <th>12</th>\n",
       "      <td>Realme C11 (Rich Grey, 32 GB)</td>\n",
       "      <td>2</td>\n",
       "      <td>32</td>\n",
       "      <td>13880</td>\n",
       "      <td>1012</td>\n",
       "      <td>4.6</td>\n",
       "      <td>8999</td>\n",
       "      <td>7499</td>\n",
       "    </tr>\n",
       "    <tr>\n",
       "      <th>13</th>\n",
       "      <td>POCO X2 (Matrix Purple, 64 GB)</td>\n",
       "      <td>6</td>\n",
       "      <td>64</td>\n",
       "      <td>131722</td>\n",
       "      <td>14570</td>\n",
       "      <td>4.5</td>\n",
       "      <td>18999</td>\n",
       "      <td>17499</td>\n",
       "    </tr>\n",
       "    <tr>\n",
       "      <th>14</th>\n",
       "      <td>POCO X2 (Atlantis Blue, 64 GB)</td>\n",
       "      <td>6</td>\n",
       "      <td>64</td>\n",
       "      <td>131722</td>\n",
       "      <td>14570</td>\n",
       "      <td>4.5</td>\n",
       "      <td>18999</td>\n",
       "      <td>17499</td>\n",
       "    </tr>\n",
       "    <tr>\n",
       "      <th>15</th>\n",
       "      <td>Apple iPhone XR (Black, 64 GB)</td>\n",
       "      <td>0</td>\n",
       "      <td>64</td>\n",
       "      <td>11419</td>\n",
       "      <td>960</td>\n",
       "      <td>4.6</td>\n",
       "      <td>52500</td>\n",
       "      <td>46999</td>\n",
       "    </tr>\n",
       "    <tr>\n",
       "      <th>16</th>\n",
       "      <td>Motorola G8 Power Lite (Royal Blue, 64 GB)</td>\n",
       "      <td>4</td>\n",
       "      <td>64</td>\n",
       "      <td>27131</td>\n",
       "      <td>2148</td>\n",
       "      <td>4.4</td>\n",
       "      <td>9999</td>\n",
       "      <td>9499</td>\n",
       "    </tr>\n",
       "    <tr>\n",
       "      <th>17</th>\n",
       "      <td>Realme 6 Pro (Lightning Blue, 64 GB)</td>\n",
       "      <td>6</td>\n",
       "      <td>64</td>\n",
       "      <td>26691</td>\n",
       "      <td>2812</td>\n",
       "      <td>4.5</td>\n",
       "      <td>17999</td>\n",
       "      <td>17999</td>\n",
       "    </tr>\n",
       "    <tr>\n",
       "      <th>18</th>\n",
       "      <td>Realme 6 Pro (Lightning Orange, 64 GB)</td>\n",
       "      <td>6</td>\n",
       "      <td>64</td>\n",
       "      <td>26691</td>\n",
       "      <td>2812</td>\n",
       "      <td>4.5</td>\n",
       "      <td>17999</td>\n",
       "      <td>17999</td>\n",
       "    </tr>\n",
       "    <tr>\n",
       "      <th>19</th>\n",
       "      <td>Vivo Y15 (Burgundy Red, 64 GB)</td>\n",
       "      <td>4</td>\n",
       "      <td>64</td>\n",
       "      <td>20834</td>\n",
       "      <td>1497</td>\n",
       "      <td>4.4</td>\n",
       "      <td>15990</td>\n",
       "      <td>12990</td>\n",
       "    </tr>\n",
       "    <tr>\n",
       "      <th>20</th>\n",
       "      <td>Vivo Y15 (Aqua Blue, 64 GB)</td>\n",
       "      <td>4</td>\n",
       "      <td>64</td>\n",
       "      <td>20834</td>\n",
       "      <td>1497</td>\n",
       "      <td>4.4</td>\n",
       "      <td>15990</td>\n",
       "      <td>12990</td>\n",
       "    </tr>\n",
       "    <tr>\n",
       "      <th>21</th>\n",
       "      <td>Redmi 8A Dual (Sea Blue, 64 GB)</td>\n",
       "      <td>3</td>\n",
       "      <td>64</td>\n",
       "      <td>892</td>\n",
       "      <td>69</td>\n",
       "      <td>4.3</td>\n",
       "      <td>9880</td>\n",
       "      <td>9880</td>\n",
       "    </tr>\n",
       "    <tr>\n",
       "      <th>22</th>\n",
       "      <td>Redmi 8A Dual (Sky White, 32 GB)</td>\n",
       "      <td>2</td>\n",
       "      <td>32</td>\n",
       "      <td>1104</td>\n",
       "      <td>69</td>\n",
       "      <td>4.3</td>\n",
       "      <td>8345</td>\n",
       "      <td>8345</td>\n",
       "    </tr>\n",
       "    <tr>\n",
       "      <th>23</th>\n",
       "      <td>Redmi 8A Dual (Midnight Grey, 64 GB)</td>\n",
       "      <td>3</td>\n",
       "      <td>64</td>\n",
       "      <td>892</td>\n",
       "      <td>69</td>\n",
       "      <td>4.3</td>\n",
       "      <td>9928</td>\n",
       "      <td>9928</td>\n",
       "    </tr>\n",
       "  </tbody>\n",
       "</table>\n",
       "</div>"
      ],
      "text/plain": [
       "                                    MobileName  RAM_GB  ROM_GB  Ratings  \\\n",
       "0                  Redmi 8 (Onyx Black, 64 GB)       4      64   670107   \n",
       "1               Redmi 8 (Sapphire Blue, 64 GB)       4      64   670107   \n",
       "2                 Realme 6 (Comet Blue, 64 GB)       6      64    29837   \n",
       "3           Realme Narzo 10A (So White, 32 GB)       3      32    42472   \n",
       "4           Realme Narzo 10A (So White, 64 GB)       4      64    16351   \n",
       "5            Realme Narzo 10A (So Blue, 32 GB)       3      32    42472   \n",
       "6            Realme Narzo 10A (So Blue, 64 GB)       4      64    16351   \n",
       "7                Realme 6 (Comet White, 64 GB)       6      64    29837   \n",
       "8         Realme Narzo 10 (That Green, 128 GB)       4     128    73440   \n",
       "9          Realme Narzo 10 (That Blue, 128 GB)       4     128    73440   \n",
       "10        Realme Narzo 10 (That White, 128 GB)       4     128    73440   \n",
       "11              Realme C11 (Rich Green, 32 GB)       2      32    13880   \n",
       "12               Realme C11 (Rich Grey, 32 GB)       2      32    13880   \n",
       "13              POCO X2 (Matrix Purple, 64 GB)       6      64   131722   \n",
       "14              POCO X2 (Atlantis Blue, 64 GB)       6      64   131722   \n",
       "15              Apple iPhone XR (Black, 64 GB)       0      64    11419   \n",
       "16  Motorola G8 Power Lite (Royal Blue, 64 GB)       4      64    27131   \n",
       "17        Realme 6 Pro (Lightning Blue, 64 GB)       6      64    26691   \n",
       "18      Realme 6 Pro (Lightning Orange, 64 GB)       6      64    26691   \n",
       "19              Vivo Y15 (Burgundy Red, 64 GB)       4      64    20834   \n",
       "20                 Vivo Y15 (Aqua Blue, 64 GB)       4      64    20834   \n",
       "21             Redmi 8A Dual (Sea Blue, 64 GB)       3      64      892   \n",
       "22            Redmi 8A Dual (Sky White, 32 GB)       2      32     1104   \n",
       "23        Redmi 8A Dual (Midnight Grey, 64 GB)       3      64      892   \n",
       "\n",
       "    Reviews  Stars  ListPrice  SalesPrice  \n",
       "0     49811    4.4      10999        9799  \n",
       "1     49811    4.4      10999        9799  \n",
       "2      2944    4.4      17999       15999  \n",
       "3      2903    4.6       9999        8999  \n",
       "4      1069    4.6      10999        9999  \n",
       "5      2903    4.6       9999        8999  \n",
       "6      1069    4.6      10999        9999  \n",
       "7      2944    4.4      17999       15999  \n",
       "8      5690    4.5      12999       11999  \n",
       "9      5690    4.5      12999       11999  \n",
       "10     5690    4.5      12999       11999  \n",
       "11     1012    4.6       8999        7499  \n",
       "12     1012    4.6       8999        7499  \n",
       "13    14570    4.5      18999       17499  \n",
       "14    14570    4.5      18999       17499  \n",
       "15      960    4.6      52500       46999  \n",
       "16     2148    4.4       9999        9499  \n",
       "17     2812    4.5      17999       17999  \n",
       "18     2812    4.5      17999       17999  \n",
       "19     1497    4.4      15990       12990  \n",
       "20     1497    4.4      15990       12990  \n",
       "21       69    4.3       9880        9880  \n",
       "22       69    4.3       8345        8345  \n",
       "23       69    4.3       9928        9928  "
      ]
     },
     "execution_count": 18,
     "metadata": {},
     "output_type": "execute_result"
    }
   ],
   "source": [
    "MobilePhones"
   ]
  },
  {
   "cell_type": "code",
   "execution_count": 19,
   "metadata": {},
   "outputs": [
    {
     "name": "stdout",
     "output_type": "stream",
     "text": [
      "MobileName     object\n",
      "RAM_GB          int32\n",
      "ROM_GB          int32\n",
      "Ratings         int32\n",
      "Reviews         int32\n",
      "Stars         float64\n",
      "ListPrice       int32\n",
      "SalesPrice      int32\n",
      "dtype: object\n"
     ]
    }
   ],
   "source": [
    "print(MobilePhones.dtypes)"
   ]
  },
  {
   "cell_type": "markdown",
   "metadata": {},
   "source": [
    "-------------------------------------------------------------------------------------------------------------------------------"
   ]
  }
 ],
 "metadata": {
  "kernelspec": {
   "display_name": "Python 3",
   "language": "python",
   "name": "python3"
  },
  "language_info": {
   "codemirror_mode": {
    "name": "ipython",
    "version": 3
   },
   "file_extension": ".py",
   "mimetype": "text/x-python",
   "name": "python",
   "nbconvert_exporter": "python",
   "pygments_lexer": "ipython3",
   "version": "3.7.3"
  }
 },
 "nbformat": 4,
 "nbformat_minor": 2
}
